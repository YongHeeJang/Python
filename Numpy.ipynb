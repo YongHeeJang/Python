{
  "nbformat": 4,
  "nbformat_minor": 0,
  "metadata": {
    "colab": {
      "provenance": [],
      "collapsed_sections": [],
      "authorship_tag": "ABX9TyP1HlONrt9mFPsKJEt6zp1/",
      "include_colab_link": true
    },
    "kernelspec": {
      "name": "python3",
      "display_name": "Python 3"
    },
    "language_info": {
      "name": "python"
    }
  },
  "cells": [
    {
      "cell_type": "markdown",
      "metadata": {
        "id": "view-in-github",
        "colab_type": "text"
      },
      "source": [
        "<a href=\"https://colab.research.google.com/github/YongHeeJang/Python/blob/main/Numpy.ipynb\" target=\"_parent\"><img src=\"https://colab.research.google.com/assets/colab-badge.svg\" alt=\"Open In Colab\"/></a>"
      ]
    },
    {
      "cell_type": "code",
      "execution_count": null,
      "metadata": {
        "id": "Zw-MYGa2w8UV"
      },
      "outputs": [],
      "source": [
        "import numpy as np\n",
        "arr = np.array([1,2,3,4])"
      ]
    },
    {
      "cell_type": "code",
      "source": [
        "print(arr)\n",
        "print(type(arr))"
      ],
      "metadata": {
        "colab": {
          "base_uri": "https://localhost:8080/"
        },
        "id": "gWJR0ur78kvU",
        "outputId": "2e4c6d57-e4da-49f6-db2c-84fd9a0fa7f8"
      },
      "execution_count": null,
      "outputs": [
        {
          "output_type": "stream",
          "name": "stdout",
          "text": [
            "[1 2 3 4]\n",
            "<class 'numpy.ndarray'>\n"
          ]
        }
      ]
    },
    {
      "cell_type": "code",
      "source": [
        "# 0으로 초기화된 배열\n",
        "# 0으로 초기화 해야 하는 이유가 있다.\n",
        "# 앱은 종료될 때 메모리를 반납하고 끝낸다. \n",
        "# 이 때,메모리는 완전히 비우지는 않고 사용할 수 있다고 남기고 종료된다.\n",
        "# 정수가 아니라 항상 실수를 사용할 수 있도록 0이 아니라 0.으로 출력된다.\n",
        "# 정수보다 실수가 더 속도가 느릴것 같지만, 모든 값이 실수로 통일되면 속도가 더 빨라진다.\n",
        "# 속도를 위해 기본적으로 실수형을 사용한다.\n",
        "arr = np.zeros((3,3))\n",
        "print(arr)"
      ],
      "metadata": {
        "colab": {
          "base_uri": "https://localhost:8080/"
        },
        "id": "MlrVHc7W8ps3",
        "outputId": "350fb822-7833-4d4a-82fe-dc4cd73edc06"
      },
      "execution_count": null,
      "outputs": [
        {
          "output_type": "stream",
          "name": "stdout",
          "text": [
            "[[0. 0. 0.]\n",
            " [0. 0. 0.]\n",
            " [0. 0. 0.]]\n"
          ]
        }
      ]
    },
    {
      "cell_type": "code",
      "source": [
        "# 빈 값으로 만들어진 배열\n",
        "# empty를 해주면, 완전히 0가 되는게 아니라 이상한 값들이 나옴\n",
        "# 다른 프로그램이 사용했던 찌거기가 남아 있는 것이다.\n",
        "# 때로는 0으로 다 바꿔주는 것이 더 좋을 수도 있다.\n",
        "arr = np.empty((4,4))\n",
        "print(arr)"
      ],
      "metadata": {
        "colab": {
          "base_uri": "https://localhost:8080/"
        },
        "id": "0ZyWCIgQ88XK",
        "outputId": "1f11520b-2342-43f9-b269-d10bf4cf5eba"
      },
      "execution_count": null,
      "outputs": [
        {
          "output_type": "stream",
          "name": "stdout",
          "text": [
            "[[2.23680039e-316 3.80430547e-322 0.00000000e+000 0.00000000e+000]\n",
            " [0.00000000e+000 1.50008929e+248 4.31174539e-096 9.80058441e+252]\n",
            " [1.23971686e+224 2.59031995e-144 6.06003395e+233 1.06400250e+248]\n",
            " [2.59050167e-144 5.22286946e-143 2.66023306e-312 0.00000000e+000]]\n"
          ]
        }
      ]
    },
    {
      "cell_type": "code",
      "source": [
        "# 1로 가득찬 배열을 만든다.\n",
        "arr = np.ones((3,3))\n",
        "print(arr)"
      ],
      "metadata": {
        "colab": {
          "base_uri": "https://localhost:8080/"
        },
        "id": "SIe4G1ma9p71",
        "outputId": "f3e4a114-7059-4d32-d9fc-b265bb38bc54"
      },
      "execution_count": null,
      "outputs": [
        {
          "output_type": "stream",
          "name": "stdout",
          "text": [
            "[[1. 1. 1.]\n",
            " [1. 1. 1.]\n",
            " [1. 1. 1.]]\n"
          ]
        }
      ]
    },
    {
      "cell_type": "code",
      "source": [
        "# 배열의 생성\n",
        "arr = np.arange(10)\n",
        "\n",
        "print(arr)"
      ],
      "metadata": {
        "colab": {
          "base_uri": "https://localhost:8080/"
        },
        "id": "_b6HRmrt-Ha2",
        "outputId": "54445795-541c-438d-9f6e-1b5da77906d3"
      },
      "execution_count": null,
      "outputs": [
        {
          "output_type": "stream",
          "name": "stdout",
          "text": [
            "[0 1 2 3 4 5 6 7 8 9]\n"
          ]
        }
      ]
    },
    {
      "cell_type": "code",
      "source": [
        "# ndarray 배열의 모양, 차수, 데이터 타입 확인\n",
        "\n",
        "arr = np.array([[1,2,3],\n",
        "                [4,5,6]])\n",
        "print(arr)"
      ],
      "metadata": {
        "colab": {
          "base_uri": "https://localhost:8080/"
        },
        "id": "qtoNhNwd-qj4",
        "outputId": "a4a2b3f2-28c7-4635-85d9-6ed19914c2d1"
      },
      "execution_count": null,
      "outputs": [
        {
          "output_type": "stream",
          "name": "stdout",
          "text": [
            "[[1 2 3]\n",
            " [4 5 6]]\n"
          ]
        }
      ]
    },
    {
      "cell_type": "code",
      "source": [
        "arr.shape\n",
        "# 모르는 array를 받았을 때는 습관적으로 shape과 dimension을 확인하는 것이 좋다."
      ],
      "metadata": {
        "colab": {
          "base_uri": "https://localhost:8080/"
        },
        "id": "DfoGdkn0_kqo",
        "outputId": "3f00f160-8fd7-489f-9a3a-ff83647bcbac"
      },
      "execution_count": null,
      "outputs": [
        {
          "output_type": "execute_result",
          "data": {
            "text/plain": [
              "(2, 3)"
            ]
          },
          "metadata": {},
          "execution_count": 11
        }
      ]
    },
    {
      "cell_type": "code",
      "source": [
        "arr.ndim"
      ],
      "metadata": {
        "colab": {
          "base_uri": "https://localhost:8080/"
        },
        "id": "KuVzSsMG_uvq",
        "outputId": "e3b24d8b-cc72-43d6-80e6-35e3b30177c8"
      },
      "execution_count": null,
      "outputs": [
        {
          "output_type": "execute_result",
          "data": {
            "text/plain": [
              "2"
            ]
          },
          "metadata": {},
          "execution_count": 13
        }
      ]
    },
    {
      "cell_type": "code",
      "source": [
        "arr.dtype"
      ],
      "metadata": {
        "colab": {
          "base_uri": "https://localhost:8080/"
        },
        "id": "vtPZdAQy_1C7",
        "outputId": "c26ff2cf-a5cf-4876-d36b-30060bad01c9"
      },
      "execution_count": null,
      "outputs": [
        {
          "output_type": "execute_result",
          "data": {
            "text/plain": [
              "dtype('int64')"
            ]
          },
          "metadata": {},
          "execution_count": 14
        }
      ]
    },
    {
      "cell_type": "code",
      "source": [
        "# data type 바꾸기\n",
        "# 파이썬은 데이터를 입력할 때, 데이터 타입을 정하는 동적 언어이다.\n",
        "arr_float = arr.astype(np.float64)\n",
        "arr_float.dtype"
      ],
      "metadata": {
        "colab": {
          "base_uri": "https://localhost:8080/"
        },
        "id": "kzwE-P-xALC-",
        "outputId": "99d77bba-73e6-4dee-d282-fd79b189f3ef"
      },
      "execution_count": null,
      "outputs": [
        {
          "output_type": "execute_result",
          "data": {
            "text/plain": [
              "dtype('float64')"
            ]
          },
          "metadata": {},
          "execution_count": 15
        }
      ]
    },
    {
      "cell_type": "code",
      "source": [
        "arr_str = np.array(['1','2','3'])\n",
        "arr_str.dtype # dtype('<U1')이라는 것은 문자형 중에서도 유니코드 형태라는 것을 말한다."
      ],
      "metadata": {
        "colab": {
          "base_uri": "https://localhost:8080/"
        },
        "id": "BQteGoKKAvP5",
        "outputId": "3d6d0f49-ab2b-4148-e36b-652ecd819e45"
      },
      "execution_count": null,
      "outputs": [
        {
          "output_type": "execute_result",
          "data": {
            "text/plain": [
              "dtype('<U1')"
            ]
          },
          "metadata": {},
          "execution_count": 17
        }
      ]
    },
    {
      "cell_type": "code",
      "source": [
        "arr_int = arr_str.astype(np.int64)\n",
        "arr_int.dtype"
      ],
      "metadata": {
        "colab": {
          "base_uri": "https://localhost:8080/"
        },
        "id": "jcRBo4cHA-6Q",
        "outputId": "e2dc8f51-832c-4fd4-e6bd-f0b0426f2e09"
      },
      "execution_count": null,
      "outputs": [
        {
          "output_type": "execute_result",
          "data": {
            "text/plain": [
              "dtype('int64')"
            ]
          },
          "metadata": {},
          "execution_count": 18
        }
      ]
    },
    {
      "cell_type": "code",
      "source": [
        "# ndarray 배열의 연산\n",
        "\n",
        "arr1 = np.array([[1,2],\n",
        "                 [3,4]])\n",
        "arr2 = np.array([[5,6],\n",
        "                 [7,8]])"
      ],
      "metadata": {
        "id": "_jpkLn3lBTxA"
      },
      "execution_count": null,
      "outputs": []
    },
    {
      "cell_type": "code",
      "source": [
        "# ndarray의 합\n",
        "# 같은 차원의 값들끼리 더해졌다.\n",
        "arr1 + arr2"
      ],
      "metadata": {
        "colab": {
          "base_uri": "https://localhost:8080/"
        },
        "id": "8oZqKKZABtyU",
        "outputId": "0de723fe-e533-4253-e94c-06c9e4b19bbc"
      },
      "execution_count": null,
      "outputs": [
        {
          "output_type": "execute_result",
          "data": {
            "text/plain": [
              "array([[ 6,  8],\n",
              "       [10, 12]])"
            ]
          },
          "metadata": {},
          "execution_count": 20
        }
      ]
    },
    {
      "cell_type": "code",
      "source": [
        "np.add(arr1, arr2)"
      ],
      "metadata": {
        "colab": {
          "base_uri": "https://localhost:8080/"
        },
        "id": "ROf-iAOICZK3",
        "outputId": "02a4e86b-ec7b-40c4-ceed-21c67ec63c27"
      },
      "execution_count": null,
      "outputs": [
        {
          "output_type": "execute_result",
          "data": {
            "text/plain": [
              "array([[ 6,  8],\n",
              "       [10, 12]])"
            ]
          },
          "metadata": {},
          "execution_count": 21
        }
      ]
    },
    {
      "cell_type": "code",
      "source": [
        "# ndarray의 곱\n",
        "# 같은 차원의 값들끼리 곱했다.\n",
        "arr1 * arr2"
      ],
      "metadata": {
        "colab": {
          "base_uri": "https://localhost:8080/"
        },
        "id": "_FKK6zdBCi_D",
        "outputId": "0bda0912-a932-4bdc-f09b-e7229d944dc8"
      },
      "execution_count": null,
      "outputs": [
        {
          "output_type": "execute_result",
          "data": {
            "text/plain": [
              "array([[ 5, 12],\n",
              "       [21, 32]])"
            ]
          },
          "metadata": {},
          "execution_count": 22
        }
      ]
    },
    {
      "cell_type": "code",
      "source": [
        "np.multiply(arr1, arr2)"
      ],
      "metadata": {
        "colab": {
          "base_uri": "https://localhost:8080/"
        },
        "id": "X28yzwnmC0Dy",
        "outputId": "2d4699d1-76b7-4f65-8ca8-c4d15265daa4"
      },
      "execution_count": null,
      "outputs": [
        {
          "output_type": "execute_result",
          "data": {
            "text/plain": [
              "array([[ 5, 12],\n",
              "       [21, 32]])"
            ]
          },
          "metadata": {},
          "execution_count": 23
        }
      ]
    },
    {
      "cell_type": "code",
      "source": [
        "# ndarray 배열 슬라이싱 하기\n",
        "\n",
        "arr = np.array([[1,2,3],\n",
        "                [4,5,6],\n",
        "                [7,8,9]])"
      ],
      "metadata": {
        "id": "9Jv10tQAC30J"
      },
      "execution_count": null,
      "outputs": []
    },
    {
      "cell_type": "code",
      "source": [
        "print(arr.ndim)\n",
        "print(arr.shape)\n",
        "print(arr.dtype)"
      ],
      "metadata": {
        "colab": {
          "base_uri": "https://localhost:8080/"
        },
        "id": "-2IYo3ZnDjE9",
        "outputId": "2de64be0-d6c6-4860-e145-87f6f6031b1b"
      },
      "execution_count": null,
      "outputs": [
        {
          "output_type": "stream",
          "name": "stdout",
          "text": [
            "2\n",
            "(3, 3)\n",
            "int64\n"
          ]
        }
      ]
    },
    {
      "cell_type": "code",
      "source": [
        "# ndarray 배열 슬라이싱 하기\n",
        "\n",
        "arr_1 = arr[:2,1:3]\n",
        "print(arr_1)"
      ],
      "metadata": {
        "colab": {
          "base_uri": "https://localhost:8080/"
        },
        "id": "Z2dTQjPKD2OZ",
        "outputId": "19844f9f-44b6-4697-ee15-c50b080ce6ff"
      },
      "execution_count": null,
      "outputs": [
        {
          "output_type": "stream",
          "name": "stdout",
          "text": [
            "[[2 3]\n",
            " [5 6]]\n"
          ]
        }
      ]
    },
    {
      "cell_type": "code",
      "source": [
        "arr[0,2]"
      ],
      "metadata": {
        "colab": {
          "base_uri": "https://localhost:8080/"
        },
        "id": "BHkBmAhoD_fX",
        "outputId": "a9929034-560e-4394-9fa3-b05e3a6e078f"
      },
      "execution_count": null,
      "outputs": [
        {
          "output_type": "execute_result",
          "data": {
            "text/plain": [
              "3"
            ]
          },
          "metadata": {},
          "execution_count": 35
        }
      ]
    },
    {
      "cell_type": "code",
      "source": [
        "arr[[0,1,2],\n",
        "    [2,0,1]]"
      ],
      "metadata": {
        "colab": {
          "base_uri": "https://localhost:8080/"
        },
        "id": "nItUaNwUIjXm",
        "outputId": "93e3a521-8257-4ba3-b4d9-9e79ff2a86f1"
      },
      "execution_count": null,
      "outputs": [
        {
          "output_type": "execute_result",
          "data": {
            "text/plain": [
              "array([3, 4, 8])"
            ]
          },
          "metadata": {},
          "execution_count": 38
        }
      ]
    },
    {
      "cell_type": "code",
      "source": [
        "idx = arr > 3\n",
        "print(idx)"
      ],
      "metadata": {
        "colab": {
          "base_uri": "https://localhost:8080/"
        },
        "id": "7fXW1wpdJIw-",
        "outputId": "a5b1e34d-a779-4b2a-84e0-41ce041d699d"
      },
      "execution_count": null,
      "outputs": [
        {
          "output_type": "stream",
          "name": "stdout",
          "text": [
            "[[False False False]\n",
            " [ True  True  True]\n",
            " [ True  True  True]]\n"
          ]
        }
      ]
    },
    {
      "cell_type": "code",
      "source": [
        "# 전체 배열에서 특정 조건을 만족하는 것만 뽑아내기\n",
        "# 예를들어, 3보다 큰 값만 뽑기\n",
        "print(arr[idx])"
      ],
      "metadata": {
        "colab": {
          "base_uri": "https://localhost:8080/"
        },
        "id": "bgYdlikTJjfy",
        "outputId": "152181fb-fe59-4fa7-94e1-838b0617cfa2"
      },
      "execution_count": null,
      "outputs": [
        {
          "output_type": "stream",
          "name": "stdout",
          "text": [
            "[4 5 6 7 8 9]\n"
          ]
        }
      ]
    },
    {
      "cell_type": "code",
      "source": [
        "redwine = np.loadtxt(fname='winequality-red.csv',delimiter=';', skiprows=1) #구별자로 세미콜론을 이용했다고 정하는 것\n",
        "# 첫줄은 데이터가 아니라 헤더이다. 첫줄을 건너 뛰기 위해서 skiprows를 지정\n",
        "print(redwine)"
      ],
      "metadata": {
        "colab": {
          "base_uri": "https://localhost:8080/"
        },
        "id": "mCs33wMeKB2Z",
        "outputId": "85edeb3c-b657-4ed9-9bb3-1f7d72ee3e74"
      },
      "execution_count": null,
      "outputs": [
        {
          "output_type": "stream",
          "name": "stdout",
          "text": [
            "[[ 7.4    0.7    0.    ...  0.56   9.4    5.   ]\n",
            " [ 7.8    0.88   0.    ...  0.68   9.8    5.   ]\n",
            " [ 7.8    0.76   0.04  ...  0.65   9.8    5.   ]\n",
            " ...\n",
            " [ 6.3    0.51   0.13  ...  0.75  11.     6.   ]\n",
            " [ 5.9    0.645  0.12  ...  0.71  10.2    5.   ]\n",
            " [ 6.     0.31   0.47  ...  0.66  11.     6.   ]]\n"
          ]
        }
      ]
    },
    {
      "cell_type": "code",
      "source": [
        "# 넘파이를 이용한 기초 통계 분석\n",
        "# 합계(모든 항목)\n",
        "print(redwine.sum())\n",
        "# 평균\n",
        "print(redwine.mean())\n",
        "# 모든 항목에 대해서 합이나 평균을 구하는 것은 별 의미가 없다. 축을 따라 항목별로 합이나 평균을 구해주는 것이 좋다.\n"
      ],
      "metadata": {
        "colab": {
          "base_uri": "https://localhost:8080/"
        },
        "id": "1lB7OVL4NfXY",
        "outputId": "20747051-8fbf-4d93-ef0d-2c3bc3e7dacd"
      },
      "execution_count": null,
      "outputs": [
        {
          "output_type": "stream",
          "name": "stdout",
          "text": [
            "152084.78194\n",
            "7.926036165311652\n"
          ]
        }
      ]
    },
    {
      "cell_type": "code",
      "source": [
        "# 축\n",
        "# 축이라는 개념을 잘 알아야 한다.\n",
        "# 가로 방향이 0번축, 세로 방향이 1번축이다.\n",
        "# 0번축을 기준으로 sum을 하면, 0번 축을 기준으로 하기 때문에 column별로 합계를 구해준다.\n",
        "print(redwine.sum(axis=0))\n",
        "print(redwine.mean(axis=0))"
      ],
      "metadata": {
        "colab": {
          "base_uri": "https://localhost:8080/"
        },
        "id": "B1laRhc8OABN",
        "outputId": "4b3a2cc7-a46d-4030-a12b-dfa10ae7f8d6"
      },
      "execution_count": null,
      "outputs": [
        {
          "output_type": "stream",
          "name": "stdout",
          "text": [
            "[13303.1       843.985     433.29     4059.55      139.859   25384.\n",
            " 74302.       1593.79794  5294.47     1052.38    16666.35     9012.     ]\n",
            "[ 8.31963727  0.52782051  0.27097561  2.5388055   0.08746654 15.87492183\n",
            " 46.46779237  0.99674668  3.3111132   0.65814884 10.42298311  5.63602251]\n"
          ]
        }
      ]
    },
    {
      "cell_type": "code",
      "source": [
        "# 첫번째 column 슬라이싱\n",
        "column1 = redwine[:, 0]\n",
        "print(column1)\n",
        "print(column1.mean())"
      ],
      "metadata": {
        "colab": {
          "base_uri": "https://localhost:8080/"
        },
        "id": "-tJ_c9FxPeWd",
        "outputId": "3e9319e5-417f-4e54-a43b-6412929ffd40"
      },
      "execution_count": null,
      "outputs": [
        {
          "output_type": "stream",
          "name": "stdout",
          "text": [
            "[7.4 7.8 7.8 ... 6.3 5.9 6. ]\n",
            "8.31963727329581\n"
          ]
        }
      ]
    },
    {
      "cell_type": "code",
      "source": [
        "# column별로 최대값 가져오기\n",
        "print(redwine.max(axis=0))\n",
        "print(redwine.min(axis=0))\n"
      ],
      "metadata": {
        "colab": {
          "base_uri": "https://localhost:8080/"
        },
        "id": "iD9q3SEVQI7q",
        "outputId": "45b2bad4-eb9f-45da-d53d-3f17da7fef1e"
      },
      "execution_count": null,
      "outputs": [
        {
          "output_type": "stream",
          "name": "stdout",
          "text": [
            "[ 15.9       1.58      1.       15.5       0.611    72.      289.\n",
            "   1.00369   4.01      2.       14.9       8.     ]\n",
            "[4.6     0.12    0.      0.9     0.012   1.      6.      0.99007 2.74\n",
            " 0.33    8.4     3.     ]\n"
          ]
        }
      ]
    },
    {
      "cell_type": "code",
      "source": [],
      "metadata": {
        "id": "Qd27jwRCQ48P"
      },
      "execution_count": null,
      "outputs": []
    }
  ]
}